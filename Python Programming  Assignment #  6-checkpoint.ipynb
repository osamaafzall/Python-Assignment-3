{
 "cells": [
  {
   "cell_type": "markdown",
   "id": "14554ac8",
   "metadata": {},
   "source": [
    "# Assignment # 6 "
   ]
  },
  {
   "cell_type": "markdown",
   "id": "3d88060a",
   "metadata": {},
   "source": [
    "# 1.   Here's the python program to construct the specified pattern using a nested for loop."
   ]
  },
  {
   "cell_type": "code",
   "execution_count": 1,
   "id": "5a3fd682",
   "metadata": {},
   "outputs": [
    {
     "name": "stdout",
     "output_type": "stream",
     "text": [
      "*\n",
      "**\n",
      "***\n",
      "****\n",
      "*****\n",
      "****\n",
      "***\n",
      "**\n",
      "*\n"
     ]
    }
   ],
   "source": [
    "n = 5\n",
    "\n",
    "#Upper part of the pattern \n",
    "for i in range(1, n + 1):\n",
    "    print('*' * i)\n",
    "    \n",
    "#Lower part of the pattern\n",
    "for i in range(n - 1, 0, -1):\n",
    "    print('*' * i)"
   ]
  },
  {
   "cell_type": "markdown",
   "id": "fa5615ec",
   "metadata": {},
   "source": [
    "# 2.  The Python program to check whether an alphabet entered by the user is a vowel or consonant "
   ]
  },
  {
   "cell_type": "code",
   "execution_count": 2,
   "id": "9c4727af",
   "metadata": {},
   "outputs": [
    {
     "name": "stdout",
     "output_type": "stream",
     "text": [
      "Enter an alphabet: d\n",
      "d is a consonant.\n"
     ]
    }
   ],
   "source": [
    "# Get input from the user\n",
    "alphabet = input(\"Enter an alphabet: \").lower()\n",
    "\n",
    "#check if the input is a vowel or consonant \n",
    "if alphabet in 'aeiou':\n",
    "    print(f\"{alphabet} is a vowel.\")\n",
    "elif alphabet.isalpha():\n",
    "    print(f\"{alphabet} is a consonant.\")\n",
    "else:\n",
    "    print(\"Invalid input. please enter a single alphabet.\")"
   ]
  },
  {
   "cell_type": "markdown",
   "id": "fee718bc",
   "metadata": {},
   "source": [
    "# 3. The python program to create the multiplication table (from 1 to 10) for a number provided by the user"
   ]
  },
  {
   "cell_type": "code",
   "execution_count": 3,
   "id": "a9332f2b",
   "metadata": {},
   "outputs": [
    {
     "name": "stdout",
     "output_type": "stream",
     "text": [
      "Input a number: 3\n",
      "3 * 1 = 3\n",
      "3 * 2 = 6\n",
      "3 * 3 = 9\n",
      "3 * 4 = 12\n",
      "3 * 5 = 15\n",
      "3 * 6 = 18\n",
      "3 * 7 = 21\n",
      "3 * 8 = 24\n",
      "3 * 9 = 27\n",
      "3 * 10 = 30\n"
     ]
    }
   ],
   "source": [
    "# Get the input from the user\n",
    "num = int(input(\"Input a number: \"))\n",
    "\n",
    "#Generate the multiplication table\n",
    "for i in range(1, 11):\n",
    "    print(f\"{num} * {i} = {num * i}\")"
   ]
  },
  {
   "cell_type": "markdown",
   "id": "7b17166b",
   "metadata": {},
   "source": [
    "# 4. The Python program to guess a number between 1 and 9"
   ]
  },
  {
   "cell_type": "code",
   "execution_count": 4,
   "id": "20f5f9f5",
   "metadata": {},
   "outputs": [
    {
     "name": "stdout",
     "output_type": "stream",
     "text": [
      "Guess a number between 1 and 9:1\n",
      "Try again!\n",
      "Guess a number between 1 and 9:9\n",
      "Try again!\n",
      "Guess a number between 1 and 9:8\n",
      "Try again!\n",
      "Guess a number between 1 and 9:9\n",
      "Try again!\n",
      "Guess a number between 1 and 9:1\n",
      "Try again!\n",
      "Guess a number between 1 and 9:2\n",
      "well guessed!\n"
     ]
    }
   ],
   "source": [
    "import random\n",
    "\n",
    "#Generate a random number between 1 and 9\n",
    "target_number = random.randint(1,9)\n",
    "\n",
    "while True:\n",
    "    #Prompt the user to guess the number \n",
    "    guess = int(input(\"Guess a number between 1 and 9:\"))\n",
    "    \n",
    "    #Check if the guess is correct \n",
    "    if guess == target_number:\n",
    "        print(\"well guessed!\")\n",
    "        break\n",
    "    else:\n",
    "        print(\"Try again!\")"
   ]
  },
  {
   "cell_type": "markdown",
   "id": "0757b2dc",
   "metadata": {},
   "source": [
    "# 5. The Python program to filter the height and weight of students stored in a dictionary "
   ]
  },
  {
   "cell_type": "code",
   "execution_count": 8,
   "id": "0d52a6d2",
   "metadata": {},
   "outputs": [
    {
     "name": "stdout",
     "output_type": "stream",
     "text": [
      "{}\n"
     ]
    },
    {
     "data": {
      "text/plain": [
       "{'Cierra Vega': (6.2, 70)}"
      ]
     },
     "execution_count": 8,
     "metadata": {},
     "output_type": "execute_result"
    }
   ],
   "source": [
    "# Original dictionary of students with their height and weight\n",
    "students = {\n",
    "    'Cierra Vega': (6.2, 70),\n",
    "    'Alden Cantrell': (5.9, 65),\n",
    "    'Kierra Gentry': (6.0, 68),\n",
    "    'Pierre Cox': (5.8, 66)\n",
    "}\n",
    "\n",
    "# Filter students based on height > 6ft and weight > 70kg\n",
    "filtered_students = {name: (height, weight) for name, (height, weight) in students.items() if height > 6 and weight > 70}\n",
    "\n",
    "# Display the filtered dictionary\n",
    "print(filtered_students)\n",
    "{'Cierra Vega': (6.2, 70)}\n"
   ]
  },
  {
   "cell_type": "markdown",
   "id": "64ff442a",
   "metadata": {},
   "source": [
    "# 6. The Python program to clear the list values in a dictionary"
   ]
  },
  {
   "cell_type": "code",
   "execution_count": 10,
   "id": "dc0e5468",
   "metadata": {},
   "outputs": [
    {
     "name": "stdout",
     "output_type": "stream",
     "text": [
      "{'C1': [], 'C2': [], 'C3': []}\n"
     ]
    }
   ],
   "source": [
    "# Original dictionary with lists as values\n",
    "original_dict = {'C1': [10, 20, 30], 'C2': [20, 30, 40], 'C3' : [12, 34]}\n",
    "\n",
    "#Clear the list values in the dictionary \n",
    "Cleared_dict = {key: [] for key in original_dict}\n",
    "\n",
    "#Display the updated dictionary \n",
    "print(Cleared_dict)"
   ]
  },
  {
   "cell_type": "markdown",
   "id": "3166886d",
   "metadata": {},
   "source": [
    "# 7 . The Python program that fulfills the three requirements"
   ]
  },
  {
   "cell_type": "code",
   "execution_count": 14,
   "id": "468bbc80",
   "metadata": {},
   "outputs": [
    {
     "name": "stdout",
     "output_type": "stream",
     "text": [
      "The Nile runs through Egypt.\n",
      "The Amazon runs through Brazil.\n",
      "The Yangtze runs through china.\n",
      "River: Nile\n",
      "River: Amazon\n",
      "River: Yangtze\n",
      "Country: Egypt\n",
      "Country: Brazil\n",
      "Country: china\n"
     ]
    }
   ],
   "source": [
    "# Dictionary containing rivers and the countries they run  through\n",
    "rivers = {\n",
    "    'Nile': 'Egypt',\n",
    "    'Amazon': 'Brazil', \n",
    "    'Yangtze': 'china'\n",
    "    \n",
    "}\n",
    "\n",
    "#1. print a sentence about each river \n",
    "for river, country in rivers.items():\n",
    "    print(f\"The {river} runs through {country}.\") \n",
    "    \n",
    "#2. print the name of each river\n",
    "for river in rivers.keys():\n",
    "    print(f\"River: {river}\")\n",
    "    \n",
    "#3. print the name of each country \n",
    "for country in rivers.values():\n",
    "    print(f\"Country: {country}\")"
   ]
  },
  {
   "cell_type": "markdown",
   "id": "1acb765d",
   "metadata": {},
   "source": [
    "# 8. The Python program to determine the cost of a movie ticket based on a user's age"
   ]
  },
  {
   "cell_type": "code",
   "execution_count": null,
   "id": "14a2c367",
   "metadata": {},
   "outputs": [
    {
     "name": "stdout",
     "output_type": "stream",
     "text": [
      "Enter your age (or type -1 to quit): 27\n",
      "Your ticket costs $15.\n",
      "Enter your age (or type -1 to quit): 28\n",
      "Your ticket costs $15.\n",
      "Enter your age (or type -1 to quit): 29\n",
      "Your ticket costs $15.\n",
      "Enter your age (or type -1 to quit): 30\n",
      "Your ticket costs $15.\n"
     ]
    }
   ],
   "source": [
    "while True:\n",
    "    #Ask the user for their age \n",
    "    age = int(input(\"Enter your age (or type -1 to quit): \"))\n",
    "    \n",
    "    #Exit the loop if the user inputs -1\n",
    "    if age == -1:\n",
    "        print(\"Thank you for using the movie ticket system. Goodbye!\")\n",
    "        break\n",
    "        \n",
    "    # Determine the ticket price based on age\n",
    "    if age < 3:\n",
    "        print(\"Your ticket is free.\")\n",
    "    elif 3 <= age <= 12:\n",
    "        print(\"Your ticket costs $10.\")\n",
    "    else:\n",
    "        print(\"Your ticket costs $15.\")"
   ]
  },
  {
   "cell_type": "code",
   "execution_count": null,
   "id": "3cf56997",
   "metadata": {},
   "outputs": [],
   "source": []
  }
 ],
 "metadata": {
  "kernelspec": {
   "display_name": "Python 3 (ipykernel)",
   "language": "python",
   "name": "python3"
  },
  "language_info": {
   "codemirror_mode": {
    "name": "ipython",
    "version": 3
   },
   "file_extension": ".py",
   "mimetype": "text/x-python",
   "name": "python",
   "nbconvert_exporter": "python",
   "pygments_lexer": "ipython3",
   "version": "3.11.5"
  }
 },
 "nbformat": 4,
 "nbformat_minor": 5
}
