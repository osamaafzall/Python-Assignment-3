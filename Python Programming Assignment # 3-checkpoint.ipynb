{
 "cells": [
  {
   "cell_type": "code",
   "execution_count": 1,
   "id": "6d6d7c84",
   "metadata": {},
   "outputs": [
    {
     "name": "stdout",
     "output_type": "stream",
     "text": [
      "Twinkle, twinkle, little star, \n",
      "\tHow I wonder what you are! \n",
      "\t\tUp above the world so high, \n",
      "\t\tLike a diamond in the sky. \n",
      "Twinkle, twinkle, little star, \n",
      "\tHow I wonder what you are!\n"
     ]
    }
   ],
   "source": [
    "print(\"Twinkle, twinkle, little star, \\n\\tHow I wonder what you are! \\n\\t\\tUp above the world so high, \\n\\t\\tLike a diamond in the sky. \\nTwinkle, twinkle, little star, \\n\\tHow I wonder what you are!\")"
   ]
  },
  {
   "cell_type": "code",
   "execution_count": 1,
   "id": "3c15729a",
   "metadata": {},
   "outputs": [
    {
     "name": "stdout",
     "output_type": "stream",
     "text": [
      "Python version: 3.11.5 | packaged by Anaconda, Inc. | (main, Sep 11 2023, 13:26:23) [MSC v.1916 64 bit (AMD64)]\n"
     ]
    }
   ],
   "source": [
    "import sys\n",
    "\n",
    "print(\"Python version:\", sys.version)"
   ]
  },
  {
   "cell_type": "code",
   "execution_count": 3,
   "id": "91c6d5e6",
   "metadata": {},
   "outputs": [
    {
     "name": "stdout",
     "output_type": "stream",
     "text": [
      "Current Date:  01/08/2024\n",
      "Current Time:  19:49:11\n"
     ]
    }
   ],
   "source": [
    "from datetime import datetime\n",
    "\n",
    "now = datetime.now()\n",
    "\n",
    "current_time = now.strftime(\"%H:%M:%S\")\n",
    "current_date = now.strftime(\"%d/%m/%Y\")\n",
    "\n",
    "print(\"Current Date: \", current_date)\n",
    "print(\"Current Time: \", current_time)"
   ]
  },
  {
   "cell_type": "code",
   "execution_count": 4,
   "id": "e5f8cae1",
   "metadata": {},
   "outputs": [
    {
     "name": "stdout",
     "output_type": "stream",
     "text": [
      "Enter the radius of the circle: 223\n",
      "The area of the circle is:  156228.26107036683\n"
     ]
    }
   ],
   "source": [
    "import math\n",
    "\n",
    "# Get the radius from the user\n",
    "radius = float(input(\"Enter the radius of the circle: \"))\n",
    "\n",
    "# Compute the area\n",
    "area = math.pi * (radius ** 2)\n",
    "\n",
    "# Print the result\n",
    "print(\"The area of the circle is: \", area)"
   ]
  },
  {
   "cell_type": "code",
   "execution_count": 5,
   "id": "b93e1365",
   "metadata": {},
   "outputs": [
    {
     "name": "stdout",
     "output_type": "stream",
     "text": [
      "Enter your first name: \n",
      "  @media print {\n",
      "    .ms-editor-squiggles-container {\n",
      "      display:none !important;\n",
      "    }\n",
      "  }\n",
      "  .ms-editor-squiggles-container {\n",
      "    all: initial;\n",
      "  }Muhammad \n",
      "Enter your last name: osama\n",
      "osama Muhammad \n"
     ]
    }
   ],
   "source": [
    "# Get the first and last name from the user\n",
    "first_name = input(\"Enter your first name: \")\n",
    "last_name = input(\"Enter your last name: \")\n",
    "\n",
    "# Print the names in reverse order with a space between them\n",
    "print(last_name + \" \" + first_name)"
   ]
  },
  {
   "cell_type": "code",
   "execution_count": 6,
   "id": "6ae961fc",
   "metadata": {},
   "outputs": [
    {
     "name": "stdout",
     "output_type": "stream",
     "text": [
      "Enter the first number: 23\n",
      "Enter the second number: 22\n",
      "The sum is:  45.0\n"
     ]
    }
   ],
   "source": [
    "# Get the two numbers from the user\n",
    "num1 = float(input(\"Enter the first number: \"))\n",
    "num2 = float(input(\"Enter the second number: \"))\n",
    "\n",
    "# Add the two numbers\n",
    "sum = num1 + num2\n",
    "\n",
    "# Print the result\n",
    "print(\"The sum is: \", sum)"
   ]
  },
  {
   "cell_type": "code",
   "execution_count": 7,
   "id": "bbc661cf",
   "metadata": {},
   "outputs": [
    {
     "name": "stdout",
     "output_type": "stream",
     "text": [
      "Enter math marks: 345\n",
      "Enter science marks: 456\n",
      "Enter english marks: 454\n",
      "Enter history marks: 567\n",
      "Enter computer marks: 678\n",
      "Mark Sheet:\n",
      "-----------\n",
      "Math:  345.0\n",
      "Science:  456.0\n",
      "English:  454.0\n",
      "History:  567.0\n",
      "Computer:  678.0\n",
      "-----------\n",
      "Total Marks:  2500.0\n",
      "Average Marks:  500.0\n",
      "Grade:  A\n"
     ]
    }
   ],
   "source": [
    "# Get the marks for each subject from the user\n",
    "math_marks = float(input(\"Enter math marks: \"))\n",
    "science_marks = float(input(\"Enter science marks: \"))\n",
    "english_marks = float(input(\"Enter english marks: \"))\n",
    "history_marks = float(input(\"Enter history marks: \"))\n",
    "computer_marks = float(input(\"Enter computer marks: \"))\n",
    "\n",
    "# Calculate the total marks\n",
    "total_marks = math_marks + science_marks + english_marks + history_marks + computer_marks\n",
    "\n",
    "# Calculate the average marks\n",
    "average_marks = total_marks / 5\n",
    "\n",
    "# Determine the grade based on the average marks\n",
    "if average_marks >= 90:\n",
    "    grade = \"A\"\n",
    "elif average_marks >= 80:\n",
    "    grade = \"B\"\n",
    "elif average_marks >= 70:\n",
    "    grade = \"C\"\n",
    "elif average_marks >= 60:\n",
    "    grade = \"D\"\n",
    "else:\n",
    "    grade = \"F\"\n",
    "\n",
    "# Print the mark sheet\n",
    "print(\"Mark Sheet:\")\n",
    "print(\"-----------\")\n",
    "print(\"Math: \", math_marks)\n",
    "print(\"Science: \", science_marks)\n",
    "print(\"English: \", english_marks)\n",
    "print(\"History: \", history_marks)\n",
    "print(\"Computer: \", computer_marks)\n",
    "print(\"-----------\")\n",
    "print(\"Total Marks: \", total_marks)\n",
    "print(\"Average Marks: \", average_marks)\n",
    "print(\"Grade: \", grade)"
   ]
  },
  {
   "cell_type": "code",
   "execution_count": 8,
   "id": "d1b51fe7",
   "metadata": {},
   "outputs": [
    {
     "name": "stdout",
     "output_type": "stream",
     "text": [
      "Enter a number: 2\n",
      "The number is even.\n"
     ]
    }
   ],
   "source": [
    "# Get the number from the user\n",
    "num = int(input(\"Enter a number: \"))\n",
    "\n",
    "# Check if the number is even or odd\n",
    "if num % 2 == 0:\n",
    "    print(\"The number is even.\")\n",
    "else:\n",
    "    print(\"The number is odd.\")"
   ]
  },
  {
   "cell_type": "code",
   "execution_count": 9,
   "id": "fa126956",
   "metadata": {},
   "outputs": [
    {
     "name": "stdout",
     "output_type": "stream",
     "text": [
      "The length of the list is: 10\n"
     ]
    }
   ],
   "source": [
    "# Define a list\n",
    "my_list = [1, 2, 3, 4, 5, 6, 7, 8, 9, 10]\n",
    "\n",
    "# Print the length of the list\n",
    "print(\"The length of the list is:\", len(my_list))"
   ]
  },
  {
   "cell_type": "code",
   "execution_count": 13,
   "id": "e6fb69f6",
   "metadata": {},
   "outputs": [
    {
     "name": "stdout",
     "output_type": "stream",
     "text": [
      "Sum of numeric items: 15.5\n"
     ]
    }
   ],
   "source": [
    "def sum_numeric_items(lst):\n",
    "    numeric_sum = 0\n",
    "    for item in lst:\n",
    "        if isinstance(item, (int, float)):\n",
    "            numeric_sum += item\n",
    "    return numeric_sum\n",
    "\n",
    "# Example usage:\n",
    "my_list = [1, 2, 'a', 3.5, 'b', 4, 5, 'c']\n",
    "print(\"Sum of numeric items:\", sum_numeric_items(my_list))"
   ]
  },
  {
   "cell_type": "code",
   "execution_count": 14,
   "id": "29f8d7f0",
   "metadata": {},
   "outputs": [
    {
     "name": "stdout",
     "output_type": "stream",
     "text": [
      "Largest number: 89\n"
     ]
    }
   ],
   "source": [
    "def get_largest_number(lst):\n",
    "    return max(lst)\n",
    "\n",
    "# Example usage:\n",
    "my_list = [12, 45, 7, 23, 56, 89, 34]\n",
    "print(\"Largest number:\", get_largest_number(my_list))"
   ]
  },
  {
   "cell_type": "code",
   "execution_count": 15,
   "id": "64c493df",
   "metadata": {},
   "outputs": [
    {
     "name": "stdout",
     "output_type": "stream",
     "text": [
      "[1, 1, 2, 3]\n"
     ]
    }
   ],
   "source": [
    "a = [1, 1, 2, 3, 5, 8, 13, 21, 34, 55, 89]\n",
    "\n",
    "print([num for num in a if num < 5])"
   ]
  },
  {
   "cell_type": "code",
   "execution_count": null,
   "id": "fd936163",
   "metadata": {},
   "outputs": [],
   "source": []
  }
 ],
 "metadata": {
  "kernelspec": {
   "display_name": "Python 3 (ipykernel)",
   "language": "python",
   "name": "python3"
  },
  "language_info": {
   "codemirror_mode": {
    "name": "ipython",
    "version": 3
   },
   "file_extension": ".py",
   "mimetype": "text/x-python",
   "name": "python",
   "nbconvert_exporter": "python",
   "pygments_lexer": "ipython3",
   "version": "3.11.5"
  }
 },
 "nbformat": 4,
 "nbformat_minor": 5
}
