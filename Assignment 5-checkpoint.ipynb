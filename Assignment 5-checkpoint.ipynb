{
 "cells": [
  {
   "cell_type": "markdown",
   "id": "83d1979a",
   "metadata": {},
   "source": [
    "# Jawan Pakistan Assignment  (5)\n"
   ]
  },
  {
   "cell_type": "markdown",
   "id": "cf3568ce",
   "metadata": {},
   "source": [
    "# 1. Manage employee records "
   ]
  },
  {
   "cell_type": "code",
   "execution_count": 15,
   "id": "2ac61fd5",
   "metadata": {},
   "outputs": [
    {
     "name": "stdout",
     "output_type": "stream",
     "text": [
      "Employee Records:\n",
      "Employee ID: E001 | Name: Alice Johnson | Department: Human Resources\n",
      "Employee ID: E002 | Name: Bob Smith | Department: Engineering\n",
      "Employee ID: E003 | Name: Carol Williams | Department: Marketing\n",
      "\n",
      "Employee found:\n",
      "Employee ID: E002 | Name: Bob Smith | Department: Engineering\n"
     ]
    }
   ],
   "source": [
    "# Define a list to store employee records\n",
    "employee_records = []\n",
    "\n",
    "# Function to add a new employee record\n",
    "def add_employee(employee_id, name, department):\n",
    "    employee = (employee_id, name, department)\n",
    "    employee_records.append(employee)\n",
    "\n",
    "# Function to display all employee records\n",
    "def display_employees():\n",
    "    print(\"Employee Records:\")\n",
    "    for employee in employee_records:\n",
    "        employee_id, name, department = employee\n",
    "        print(f\"Employee ID: {employee_id} | Name: {name} | Department: {department}\")\n",
    "\n",
    "# Function to find an employee by ID\n",
    "def find_employee(employee_id):\n",
    "    for employee in employee_records:\n",
    "        if employee[0] == employee_id:\n",
    "            return employee\n",
    "    return None\n",
    "\n",
    "# Add some employee records\n",
    "add_employee(\"E001\", \"Alice Johnson\", \"Human Resources\")\n",
    "add_employee(\"E002\", \"Bob Smith\", \"Engineering\")\n",
    "add_employee(\"E003\", \"Carol Williams\", \"Marketing\")\n",
    "\n",
    "# Display all employee records\n",
    "display_employees()\n",
    "\n",
    "# Find an employee by ID\n",
    "employee = find_employee(\"E002\")\n",
    "if employee:\n",
    "    print(\"\\nEmployee found:\")\n",
    "    print(f\"Employee ID: {employee[0]} | Name: {employee[1]} | Department: {employee[2]}\")\n",
    "else:\n",
    "    print(\"\\nEmployee not found.\")\n"
   ]
  },
  {
   "cell_type": "markdown",
   "id": "2d0cd225",
   "metadata": {},
   "source": [
    "# 2.  Managing an inventory system "
   ]
  },
  {
   "cell_type": "code",
   "execution_count": 13,
   "id": "bf083d23",
   "metadata": {},
   "outputs": [
    {
     "name": "stdout",
     "output_type": "stream",
     "text": [
      "Inventory:\n",
      "Item ID: A101 | Description: Laptop | Quantity: 10\n",
      "Item ID: B205 | Description: Mouse | Quantity: 50\n",
      "Item ID: C303 | Description: Keyboard | Quantity: 30\n",
      "Inventory:\n",
      "Item ID: A101 | Description: Laptop | Quantity: 15\n",
      "Item ID: B205 | Description: Mouse | Quantity: 50\n",
      "Item ID: C303 | Description: Keyboard | Quantity: 30\n"
     ]
    }
   ],
   "source": [
    "# Define a list to store inventory items\n",
    "inventory = []\n",
    "\n",
    "# Function to add a new item to the inventory\n",
    "def add_item(item_id, description, quantity):\n",
    "    item = (item_id, description, quantity)\n",
    "    inventory.append(item)\n",
    "\n",
    "# Function to display all inventory items\n",
    "def display_inventory():\n",
    "    print(\"Inventory:\")\n",
    "    for item in inventory:\n",
    "        item_id, description, quantity = item\n",
    "        print(f\"Item ID: {item_id} | Description: {description} | Quantity: {quantity}\")\n",
    "\n",
    "# Function to update the quantity of an existing item\n",
    "def update_quantity(item_id, new_quantity):\n",
    "    for index, item in enumerate(inventory):\n",
    "        if item[0] == item_id:\n",
    "            inventory[index] = (item[0], item[1], new_quantity)\n",
    "            break\n",
    "\n",
    "# Add some items to the inventory\n",
    "add_item(\"A101\", \"Laptop\", 10)\n",
    "add_item(\"B205\", \"Mouse\", 50)\n",
    "add_item(\"C303\", \"Keyboard\", 30)\n",
    "\n",
    "# Display all inventory items\n",
    "display_inventory()\n",
    "\n",
    "# Update the quantity of an item\n",
    "update_quantity(\"A101\", 15)\n",
    "\n",
    "# Display the inventory again to show the update\n",
    "display_inventory()\n"
   ]
  },
  {
   "cell_type": "markdown",
   "id": "4c4de64e",
   "metadata": {},
   "source": [
    "# 3. Store the dates and times of scheduled Events"
   ]
  },
  {
   "cell_type": "code",
   "execution_count": 10,
   "id": "201b5100",
   "metadata": {},
   "outputs": [
    {
     "name": "stdout",
     "output_type": "stream",
     "text": [
      "Event: Team Meeting | Date: 2024-08-15 | Time: 10:00 AM\n",
      "Event: Doctor's Appointment | Date: 2024-08-16 | Time: 2:00 PM\n",
      "Event: project Deadline | Date: 2024-08-20 | Time: 5:00 PM\n"
     ]
    }
   ],
   "source": [
    "# Define a list to store scheduled events\n",
    "scheduled_events = []\n",
    "\n",
    "# Funtion to add a new event \n",
    "def add_event(event_name, date, time):\n",
    "    event = (event_name, date, time)\n",
    "    scheduled_events.append(event)\n",
    "    \n",
    "# Function to display all scheduled events \n",
    "def display_events():\n",
    "    for event in scheduled_events:\n",
    "        name, date, time = event\n",
    "        print(f\"Event: {name} | Date: {date} | Time: {time}\")\n",
    "        \n",
    "# Add some events\n",
    "add_event(\"Team Meeting\", \"2024-08-15\", \"10:00 AM\")\n",
    "add_event(\"Doctor's Appointment\", \"2024-08-16\", \"2:00 PM\")\n",
    "add_event(\"project Deadline\", \"2024-08-20\", \"5:00 PM\")\n",
    "\n",
    "# Display all events\n",
    "display_events()"
   ]
  },
  {
   "cell_type": "markdown",
   "id": "f240718e",
   "metadata": {},
   "source": [
    "#  4. Store a company's employee details, organized by department"
   ]
  },
  {
   "cell_type": "code",
   "execution_count": 17,
   "id": "91c4364b",
   "metadata": {},
   "outputs": [
    {
     "name": "stdout",
     "output_type": "stream",
     "text": [
      "company Employees:\n",
      "\n",
      "Department: Human Resources\n",
      "Employee ID: E001 | Name: Hira imran\n",
      "\n",
      "Department: Engineering\n",
      "Employee ID: E002 | Name: Hamza mirza\n",
      "Employee ID: E004 | Name: kiran farhan\n",
      "\n",
      "Department: Marketing\n",
      "Employee ID: E003 | Name: sohail ahmed\n",
      "\n",
      "Employee found:\n",
      "Name: Hamza mirza\n"
     ]
    }
   ],
   "source": [
    "# Define a Dictionary to store employee details by department\n",
    "company_employees ={}\n",
    "\n",
    "#Function to add a new employee \n",
    "def add_employee(department, employee_id, name):\n",
    "    if department not in company_employees:\n",
    "        company_employees[department] = {}\n",
    "    company_employees[department][employee_id] = {\n",
    "        \"name\":name\n",
    "    }\n",
    "    \n",
    "# Function to display all employees organized by department\n",
    "def display_employees():\n",
    "    print(\"company Employees:\")\n",
    "    for department, employees in company_employees.items():\n",
    "        print(f\"\\nDepartment: {department}\")\n",
    "        for employee_id, details in employees.items():\n",
    "            print(f\"Employee ID: {employee_id} | Name: {details['name']}\")\n",
    "# Funtion to find an employee by ID\n",
    "def find_employee(department, employee_id):\n",
    "    if department in company_employees and employee_id in company_employees[department]:\n",
    "        return company_employees[department][employee_id]\n",
    "    return None\n",
    "\n",
    "# Add some employees\n",
    "add_employee(\"Human Resources\", \"E001\", \"Hira imran\")\n",
    "add_employee(\"Engineering\", \"E002\", \"Hamza mirza\")\n",
    "add_employee(\"Marketing\", \"E003\", \"sohail ahmed\")\n",
    "add_employee(\"Engineering\", \"E004\", \"kiran farhan\")\n",
    "\n",
    "# Display all employees\n",
    "display_employees()\n",
    "\n",
    "#Find an employee by ID \n",
    "employee = find_employee(\"Engineering\", \"E002\")\n",
    "if employee:\n",
    "    print(\"\\nEmployee found:\")\n",
    "    print(f\"Name: {employee['name']}\")\n",
    "else:\n",
    "    print(\"\\nEmployee not found.\")"
   ]
  },
  {
   "cell_type": "markdown",
   "id": "cd9773a2",
   "metadata": {},
   "source": [
    "# 5. Student scores in various subjects and retrieve a student's scores."
   ]
  },
  {
   "cell_type": "code",
   "execution_count": 20,
   "id": "c2855492",
   "metadata": {},
   "outputs": [
    {
     "name": "stdout",
     "output_type": "stream",
     "text": [
      "Student Records:\n",
      "Name: uzair shah | scores: {'Math': 85, 'English': 92, 'Science': 78}\n",
      "Name: farrukh saeed | scores: {'Math': 90, 'English': 88, 'Science': 82}\n",
      "Name: haris afzal | scores: {'Math': 75, 'English': 80, 'Science': 85}\n",
      "\n",
      "Scores for farrukh saeed: {'Math': 90, 'English': 88, 'Science': 82}\n"
     ]
    }
   ],
   "source": [
    "# Define a list to store student records\n",
    "students = []\n",
    "\n",
    "#Function to add a new student and their scores\n",
    "def add_student(name, scores):\n",
    "    student_record = {\n",
    "        \"name\": name,\n",
    "        \"scores\": scores\n",
    "    }\n",
    "    students.append(student_record)\n",
    "    \n",
    "#Function to display all students and their scores\n",
    "def display_students():\n",
    "    print(\"Student Records:\")\n",
    "    for student in students:\n",
    "        print(f\"Name: {student['name']} | scores: {student['scores']}\")\n",
    "        \n",
    "#Function to find a student's scores by name \n",
    "def find_student_scores(name):\n",
    "    for student in students:\n",
    "        if student['name'] == name:\n",
    "            return student['scores']\n",
    "    return None\n",
    "\n",
    "# Add some students\n",
    "add_student(\"uzair shah\", {\"Math\": 85, \"English\": 92, \"Science\": 78})\n",
    "add_student(\"farrukh saeed\", {\"Math\": 90, \"English\": 88, \"Science\": 82})\n",
    "add_student(\"haris afzal\", {\"Math\": 75, \"English\": 80, \"Science\": 85})\n",
    "\n",
    "#Display all students and their scores\n",
    "display_students()\n",
    "\n",
    "#Find a student's scores by name \n",
    "student_name = \"farrukh saeed\"\n",
    "scores = find_student_scores(student_name)\n",
    "if scores:\n",
    "    print(f\"\\nScores for {student_name}: {scores}\")\n",
    "else:\n",
    "    print(f\"\\nStudent {student_name} not found.\")"
   ]
  },
  {
   "cell_type": "markdown",
   "id": "8a0b9de4",
   "metadata": {},
   "source": [
    "#  6. Various projects and their Associated tasks."
   ]
  },
  {
   "cell_type": "code",
   "execution_count": 21,
   "id": "36fb888d",
   "metadata": {},
   "outputs": [
    {
     "name": "stdout",
     "output_type": "stream",
     "text": [
      "Projects and Tasks:\n",
      "\n",
      "project: website Development\n",
      "-Design homepage\n",
      "-Implement authentication\n",
      "\n",
      "project: Mobile App\n",
      "-Create user interface\n",
      "-Integrate payment gateway\n",
      "\n",
      "Task for website Development:\n",
      "-Design homepage\n",
      "-Implement authentication\n"
     ]
    }
   ],
   "source": [
    "# Define a dictionary to store projects and their tasks\n",
    "project_tasks = {}\n",
    "\n",
    "#Function to add a new project\n",
    "def add_project(project_name):\n",
    "    if project_name not in project_tasks:\n",
    "        project_tasks[project_name] = []\n",
    "        \n",
    "#Function to add a task to a specific project \n",
    "def add_task_to_project(project_name, task):\n",
    "    if project_name in project_tasks:\n",
    "        project_tasks[project_name].append(task)\n",
    "    else:\n",
    "        print(f\"Project '{project_name}' does not exist.\")\n",
    "        \n",
    "#Function to display all projects and their tasks\n",
    "def display_projects():\n",
    "    print(\"Projects and Tasks:\")\n",
    "    for project, tasks in project_tasks.items():\n",
    "        print(f\"\\nproject: {project}\")\n",
    "        for task in tasks:\n",
    "            print(f\"-{task}\")\n",
    "            \n",
    "#Funtion to retrieve tasks for a specific project\n",
    "def get_tasks_for_project(project_name):\n",
    "    return project_tasks.get(project_name, None)\n",
    "\n",
    "#Add some project\n",
    "add_project(\"website Development\")\n",
    "add_project(\"Mobile App\")\n",
    "\n",
    "#Add tasks to projects\n",
    "add_task_to_project(\"website Development\", \"Design homepage\")\n",
    "add_task_to_project(\"website Development\", \"Implement authentication\")\n",
    "add_task_to_project(\"Mobile App\", \"Create user interface\")\n",
    "add_task_to_project(\"Mobile App\", \"Integrate payment gateway\")\n",
    "\n",
    "# Display all project and their tasks\n",
    "display_projects()\n",
    "\n",
    "#Retrieve tasks for a specific project \n",
    "project_name = \"website Development\"\n",
    "tasks = get_tasks_for_project(project_name)\n",
    "if tasks is not None:\n",
    "    print(f\"\\nTask for {project_name}:\")\n",
    "    for task in tasks:\n",
    "        print(f\"-{task}\")\n",
    "else: \n",
    "    print(f\"\\nProject '{project_name}' not found.\")"
   ]
  },
  {
   "cell_type": "markdown",
   "id": "93e57fc7",
   "metadata": {},
   "source": [
    "# 7. Manage courses and their contents in a training program and retrieve details of a specific module."
   ]
  },
  {
   "cell_type": "code",
   "execution_count": 1,
   "id": "8c78189e",
   "metadata": {},
   "outputs": [
    {
     "name": "stdout",
     "output_type": "stream",
     "text": [
      "Training program:\n",
      "\n",
      "Course: Python Programming\n",
      "Module: Introduction | Details: Basics of python\n",
      "Module: OOP | Details: object-Oriented programming in python\n",
      "\n",
      "Course: Data Science\n",
      "Module: Data Analysis | Details: Data Analysis with pandas\n",
      "Module: Machine Learning | Details: Introduction to Machine Learning\n",
      "\n",
      "Details for Machine Learning in Data Science: Introduction to Machine Learning\n"
     ]
    }
   ],
   "source": [
    "# Define a dictionary to store courses and their modules\n",
    "training_program = {}\n",
    "\n",
    "# Function to add a new course\n",
    "def add_course(course_name):\n",
    "    if course_name not in training_program:\n",
    "        training_program[course_name] = {}\n",
    "        \n",
    "# Function to add a module to a specific course\n",
    "def add_module_to_course(course_name, module_name, details):\n",
    "    if course_name in training_program:\n",
    "        training_program[course_name][module_name] = details\n",
    "    else:\n",
    "        print(f\"Course '{course_name}' does not exist.\")\n",
    "        \n",
    "# Function to display all course and their modules\n",
    "def display_courses():\n",
    "    print(\"Training program:\")\n",
    "    for course, modules in training_program.items():\n",
    "        print(f\"\\nCourse: {course}\")\n",
    "        for module, details in modules.items():\n",
    "            print(f\"Module: {module} | Details: {details}\")\n",
    "            \n",
    "# Function to retrieve details of a specific module\n",
    "def get_module_details(course_name, module_name):\n",
    "    if course_name in training_program:\n",
    "        return training_program[course_name].get(module_name, None)\n",
    "    return None\n",
    "\n",
    "#Add some courses\n",
    "add_course(\"Python Programming\")\n",
    "add_course(\"Data Science\")\n",
    "\n",
    "#Add modules to courses\n",
    "add_module_to_course(\"Python Programming\", \"Introduction\", \"Basics of python\")\n",
    "add_module_to_course(\"Python Programming\", \"OOP\", \"object-Oriented programming in python\")\n",
    "add_module_to_course(\"Data Science\", \"Data Analysis\", \"Data Analysis with pandas\")\n",
    "add_module_to_course(\"Data Science\", \"Machine Learning\", \"Introduction to Machine Learning\")\n",
    "\n",
    "# Display all courses and their modules\n",
    "display_courses()\n",
    "\n",
    "# Retrieve details of a specific module\n",
    "course_name = \"Data Science\"\n",
    "module_name = \"Machine Learning\"\n",
    "module_details = get_module_details(course_name, module_name)\n",
    "if module_details is not None:\n",
    "    print(f\"\\nDetails for {module_name} in {course_name}: {module_details}\")\n",
    "else:\n",
    "    print(f\"\\nModule '{module_name}' not found in course '{course_name}'.\")"
   ]
  },
  {
   "cell_type": "markdown",
   "id": "be2ddcd0",
   "metadata": {},
   "source": [
    "# 8. Containing a product's name and its price. "
   ]
  },
  {
   "cell_type": "code",
   "execution_count": 2,
   "id": "f94e5549",
   "metadata": {},
   "outputs": [
    {
     "name": "stdout",
     "output_type": "stream",
     "text": [
      "products below $500: ['Tablet', 'Headphones', 'Smartwatch']\n"
     ]
    }
   ],
   "source": [
    "# Define a list of products with their prices\n",
    "products = [\n",
    "    (\"Laptop\", 1200),\n",
    "    (\"Smartphone\", 800),\n",
    "    (\"Tablet\", 300),\n",
    "    (\"Headphones\", 150),\n",
    "    (\"Smartwatch\", 200),\n",
    "    \n",
    "]\n",
    "\n",
    "# Function to find products below a certain price threshold\n",
    "def find_products_below_threshold(products, threshold):\n",
    "    return [name for name, price in products if price < threshold]\n",
    "\n",
    "# Define a price threshold \n",
    "price_threshold = 500\n",
    "\n",
    "# Find and display products below the threshold \n",
    "affordable_products = find_products_below_threshold(products, price_threshold)\n",
    "print(f\"products below ${price_threshold}: {affordable_products}\")\n",
    "    "
   ]
  },
  {
   "cell_type": "code",
   "execution_count": null,
   "id": "904335d9",
   "metadata": {},
   "outputs": [],
   "source": []
  }
 ],
 "metadata": {
  "kernelspec": {
   "display_name": "Python 3 (ipykernel)",
   "language": "python",
   "name": "python3"
  },
  "language_info": {
   "codemirror_mode": {
    "name": "ipython",
    "version": 3
   },
   "file_extension": ".py",
   "mimetype": "text/x-python",
   "name": "python",
   "nbconvert_exporter": "python",
   "pygments_lexer": "ipython3",
   "version": "3.11.5"
  }
 },
 "nbformat": 4,
 "nbformat_minor": 5
}
